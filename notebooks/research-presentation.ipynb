{
 "cells": [
  {
   "cell_type": "code",
   "execution_count": 1,
   "metadata": {
    "ExecuteTime": {
     "end_time": "2023-12-07T03:39:58.133749400Z",
     "start_time": "2023-12-07T03:39:55.182471400Z"
    }
   },
   "outputs": [],
   "source": [
    "from src.recommendationlab.core.data_module import DataModule"
   ]
  },
  {
   "cell_type": "code",
   "execution_count": 2,
   "outputs": [
    {
     "name": "stderr",
     "output_type": "stream",
     "text": [
      "E:\\AI\\recommendation-mlp\\venv\\Lib\\site-packages\\numpy\\core\\fromnumeric.py:59: FutureWarning: 'DataFrame.swapaxes' is deprecated and will be removed in a future version. Please use 'DataFrame.transpose' instead.\n",
      "  return bound(*args, **kwds)\n"
     ]
    },
    {
     "name": "stdout",
     "output_type": "stream",
     "text": [
      "tensor([[ 0.3366, -1.2700,  0.0767, -0.0298, -0.0275, -0.2413, -1.4157,  1.5147]],\n",
      "       grad_fn=<MulBackward0>)\n",
      "tensor([[1.]])\n"
     ]
    }
   ],
   "source": [
    "dm = DataModule('gmf', '../../dataset/vampr/', embed_size=8, batch_size=1)\n",
    "dm.setup('fit')\n",
    "for i, batch in enumerate(dm.train_dataloader()):\n",
    "    x, y = dm.on_before_batch_transfer(batch, i)\n",
    "    print(x)\n",
    "    print(y)\n",
    "    break"
   ],
   "metadata": {
    "collapsed": false,
    "ExecuteTime": {
     "end_time": "2023-12-07T03:40:23.344009100Z",
     "start_time": "2023-12-07T03:39:58.135750200Z"
    }
   }
  },
  {
   "cell_type": "code",
   "execution_count": 2,
   "outputs": [],
   "source": [],
   "metadata": {
    "collapsed": false,
    "ExecuteTime": {
     "end_time": "2023-12-07T03:40:23.349720500Z",
     "start_time": "2023-12-07T03:40:23.345203200Z"
    }
   }
  }
 ],
 "metadata": {
  "language_info": {
   "name": "python"
  },
  "orig_nbformat": 4,
  "kernelspec": {
   "name": "python3",
   "language": "python",
   "display_name": "Python 3 (ipykernel)"
  }
 },
 "nbformat": 4,
 "nbformat_minor": 2
}
