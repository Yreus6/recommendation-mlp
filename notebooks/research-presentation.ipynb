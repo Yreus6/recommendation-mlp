{
 "cells": [
  {
   "cell_type": "code",
   "execution_count": 1,
   "outputs": [],
   "source": [
    "import pandas as pd\n",
    "import os\n",
    "\n",
    "from src.recommendationlab.pipeline.dataset import VAMPR\n",
    "from src.recommendationlab.components.utils import build_user_item_matrix\n",
    "from src.recommendationlab import config\n",
    "from src.recommendationlab.pipeline import DataModule"
   ],
   "metadata": {
    "collapsed": false,
    "ExecuteTime": {
     "end_time": "2023-12-14T05:40:03.020582Z",
     "start_time": "2023-12-14T05:39:59.058361Z"
    }
   }
  },
  {
   "cell_type": "code",
   "execution_count": 2,
   "outputs": [],
   "source": [
    "dm = DataModule()\n",
    "dm.setup('fit')\n",
    "val = pd.read_csv(os.path.join(config.SPLITSPATH, 'val.csv'))\n",
    "val_mat = build_user_item_matrix(val, dm.user_id_vocab, dm.item_id_vocab)\n",
    "dataset = VAMPR(dm.users, dm.items, val_mat, 100)"
   ],
   "metadata": {
    "collapsed": false,
    "ExecuteTime": {
     "end_time": "2023-12-14T05:40:24.222469Z",
     "start_time": "2023-12-14T05:40:03.022907Z"
    }
   }
  },
  {
   "cell_type": "code",
   "execution_count": 3,
   "outputs": [
    {
     "data": {
      "text/plain": "(array([1.090393e+06, 9.457000e+03, 1.444510e+05, 4.600000e+01,\n        1.300000e-01]),\n array([2.31440000e+04, 5.00000000e+00, 3.57800000e+03, 4.50000000e+01,\n        3.35878722e-01]),\n 1.0)"
     },
     "execution_count": 3,
     "metadata": {},
     "output_type": "execute_result"
    }
   ],
   "source": [
    "dataset.__getitem__(0)"
   ],
   "metadata": {
    "collapsed": false,
    "ExecuteTime": {
     "end_time": "2023-12-14T05:40:24.233049Z",
     "start_time": "2023-12-14T05:40:24.222157Z"
    }
   }
  },
  {
   "cell_type": "code",
   "execution_count": 4,
   "outputs": [
    {
     "name": "stdout",
     "output_type": "stream",
     "text": [
      "[tensor([[1.0369e+06, 4.3300e+02, 2.1000e+01, 2.0000e+00, 2.5000e-01],\n",
      "        [8.6233e+04, 1.2680e+03, 6.5890e+03, 3.0000e+00, 2.4000e-01],\n",
      "        [1.0778e+06, 2.2500e+02, 1.2400e+02, 4.1000e+01, 1.8000e-01],\n",
      "        [1.0178e+06, 2.9300e+02, 4.1970e+03, 1.3000e+01, 2.3000e-01],\n",
      "        [1.1433e+06, 3.0728e+04, 1.8780e+03, 2.3000e+01, 3.7000e-01],\n",
      "        [6.6712e+05, 3.7280e+03, 9.3400e+02, 3.1000e+01, 2.8000e-01],\n",
      "        [7.9482e+05, 1.2830e+03, 6.2200e+02, 5.0000e+00, 3.0000e-01],\n",
      "        [1.1053e+06, 5.2000e+01, 1.1830e+03, 2.0000e+00, 3.7000e-01]],\n",
      "       dtype=torch.float64), tensor([[3.3106e+04, 5.0000e+00, 3.9000e+01, 5.0000e+00, 3.3358e-01],\n",
      "        [1.2216e+04, 5.0000e+00, 2.4430e+03, 2.0000e+00, 3.3831e-01],\n",
      "        [3.3769e+04, 1.9000e+01, 4.6100e+03, 2.0000e+00, 3.3342e-01],\n",
      "        [3.1633e+04, 1.4000e+01, 7.1900e+02, 2.0000e+00, 3.3394e-01],\n",
      "        [2.5196e+04, 1.4000e+01, 1.9280e+03, 9.0000e+00, 3.3536e-01],\n",
      "        [9.6760e+03, 5.0000e+00, 1.8500e+02, 1.4000e+01, 3.3873e-01],\n",
      "        [7.6260e+03, 2.0000e+00, 1.6110e+03, 1.7000e+01, 3.3906e-01],\n",
      "        [2.2691e+04, 2.0000e+00, 2.5100e+02, 3.0000e+00, 3.3600e-01]],\n",
      "       dtype=torch.float64), tensor([0., 0., 0., 0., 0., 0., 0., 0.], dtype=torch.float64)]\n"
     ]
    }
   ],
   "source": [
    "for batch in dm.train_dataloader():\n",
    "    print(batch)\n",
    "    break"
   ],
   "metadata": {
    "collapsed": false,
    "ExecuteTime": {
     "end_time": "2023-12-14T05:44:06.243194Z",
     "start_time": "2023-12-14T05:40:24.240619Z"
    }
   }
  },
  {
   "cell_type": "code",
   "execution_count": 4,
   "outputs": [],
   "source": [],
   "metadata": {
    "collapsed": false,
    "ExecuteTime": {
     "end_time": "2023-12-14T05:44:06.253094Z",
     "start_time": "2023-12-14T05:44:06.246056Z"
    }
   }
  }
 ],
 "metadata": {
  "language_info": {
   "name": "python"
  },
  "orig_nbformat": 4,
  "kernelspec": {
   "name": "python3",
   "language": "python",
   "display_name": "Python 3 (ipykernel)"
  }
 },
 "nbformat": 4,
 "nbformat_minor": 2
}
