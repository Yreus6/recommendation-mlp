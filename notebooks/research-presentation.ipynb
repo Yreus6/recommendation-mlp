{
 "cells": [
  {
   "cell_type": "code",
   "execution_count": 1,
   "outputs": [],
   "source": [
    "import pandas as pd\n",
    "import os\n",
    "from src.recommendationlab.pipeline.dataset import VAMPR\n",
    "from src.recommendationlab.core.utils import build_user_item_matrix\n",
    "from src.recommendationlab import config\n",
    "from src.recommendationlab.pipeline import DataModule"
   ],
   "metadata": {
    "collapsed": false,
    "ExecuteTime": {
     "end_time": "2023-12-12T12:01:22.625021500Z",
     "start_time": "2023-12-12T12:01:19.326162400Z"
    }
   }
  },
  {
   "cell_type": "code",
   "execution_count": 3,
   "outputs": [],
   "source": [
    "dm = DataModule(8)\n",
    "dm.setup('fit')\n",
    "val = pd.read_csv(os.path.join(config.SPLITSPATH, 'val.csv'))\n",
    "val_mat = build_user_item_matrix(val, dm.user_item)\n",
    "dataset = VAMPR(val_mat, 100)"
   ],
   "metadata": {
    "collapsed": false,
    "ExecuteTime": {
     "end_time": "2023-12-12T12:01:40.273443600Z",
     "start_time": "2023-12-12T12:01:32.513859200Z"
    }
   }
  },
  {
   "cell_type": "code",
   "execution_count": 7,
   "outputs": [
    {
     "data": {
      "text/plain": "array([   12,  9078, 28068, ...,  2013,  4919, 18298])"
     },
     "execution_count": 7,
     "metadata": {},
     "output_type": "execute_result"
    }
   ],
   "source": [
    "dataset.item_ids"
   ],
   "metadata": {
    "collapsed": false,
    "ExecuteTime": {
     "end_time": "2023-12-12T12:06:26.438717300Z",
     "start_time": "2023-12-12T12:06:26.431708400Z"
    }
   }
  },
  {
   "cell_type": "code",
   "execution_count": 3,
   "outputs": [],
   "source": [],
   "metadata": {
    "collapsed": false,
    "ExecuteTime": {
     "end_time": "2023-12-12T09:27:13.443914Z",
     "start_time": "2023-12-12T09:27:13.439151300Z"
    }
   }
  }
 ],
 "metadata": {
  "language_info": {
   "name": "python"
  },
  "orig_nbformat": 4,
  "kernelspec": {
   "name": "python3",
   "language": "python",
   "display_name": "Python 3 (ipykernel)"
  }
 },
 "nbformat": 4,
 "nbformat_minor": 2
}
