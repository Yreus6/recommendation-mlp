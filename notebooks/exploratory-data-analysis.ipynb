{
 "cells": [
  {
   "cell_type": "markdown",
   "source": [
    "# Import library"
   ],
   "metadata": {
    "collapsed": false
   }
  },
  {
   "cell_type": "code",
   "execution_count": 2,
   "outputs": [],
   "source": [
    "import os\n",
    "import pandas as pd"
   ],
   "metadata": {
    "collapsed": false,
    "ExecuteTime": {
     "end_time": "2023-12-03T04:55:31.066770500Z",
     "start_time": "2023-12-03T04:55:31.050964600Z"
    }
   }
  },
  {
   "cell_type": "markdown",
   "source": [
    "# Load datasets"
   ],
   "metadata": {
    "collapsed": false
   }
  },
  {
   "cell_type": "code",
   "execution_count": 3,
   "outputs": [],
   "source": [
    "dataset_path = os.path.join('E:', os.sep, 'AI', 'dataset', 'vampr')\n",
    "user_path = os.path.join(dataset_path, 'users_dataset.csv')\n",
    "item_path = os.path.join(dataset_path, 'items_dataset.csv')\n",
    "interaction_path = os.path.join(dataset_path, 'interactions_dataset.csv')"
   ],
   "metadata": {
    "collapsed": false,
    "ExecuteTime": {
     "end_time": "2023-12-03T04:55:41.948653800Z",
     "start_time": "2023-12-03T04:55:41.926993300Z"
    }
   }
  },
  {
   "cell_type": "code",
   "execution_count": 4,
   "outputs": [],
   "source": [
    "user_df = pd.read_csv(user_path)\n",
    "item_df = pd.read_csv(item_path)\n",
    "interaction_df = pd.read_csv(interaction_path)"
   ],
   "metadata": {
    "collapsed": false,
    "ExecuteTime": {
     "end_time": "2023-12-03T04:55:43.302698600Z",
     "start_time": "2023-12-03T04:55:43.181209800Z"
    }
   }
  },
  {
   "cell_type": "markdown",
   "source": [
    "# Users Dataset"
   ],
   "metadata": {
    "collapsed": false
   }
  },
  {
   "cell_type": "code",
   "execution_count": 5,
   "outputs": [
    {
     "data": {
      "text/plain": "                                USER_ID                    GENRES  \\\n0  4a023c6e-6ade-4b3b-854a-85a8cc9fe807          dance|indie|rock   \n1  445b91ac-da18-4b37-80f7-c174d82cf5af     pop|r&b/soul|acoustic   \n2  f155555d-48c2-4fba-bb26-d5566747e2a8  opera|flamenco|bollywood   \n3  d47d2173-0fb6-41e3-9f13-c34b5c4ccc03     hip hop|punk|hardcore   \n4  cbeccf90-fdb9-47fa-be3c-af6854b329f6                       pop   \n\n                                         INSTRUMENTS COUNTRY   AGE  \n0  guitarist|keyboardist|songwriter|front of hous...      CO  22.0  \n1                            singer|songwriter|actor      US  22.0  \n2                                 singer|music lover      IN  19.0  \n3                                   drummer|composer      US  34.0  \n4   producer|music lover|songwriter|composer|pianist      FR  45.0  ",
      "text/html": "<div>\n<style scoped>\n    .dataframe tbody tr th:only-of-type {\n        vertical-align: middle;\n    }\n\n    .dataframe tbody tr th {\n        vertical-align: top;\n    }\n\n    .dataframe thead th {\n        text-align: right;\n    }\n</style>\n<table border=\"1\" class=\"dataframe\">\n  <thead>\n    <tr style=\"text-align: right;\">\n      <th></th>\n      <th>USER_ID</th>\n      <th>GENRES</th>\n      <th>INSTRUMENTS</th>\n      <th>COUNTRY</th>\n      <th>AGE</th>\n    </tr>\n  </thead>\n  <tbody>\n    <tr>\n      <th>0</th>\n      <td>4a023c6e-6ade-4b3b-854a-85a8cc9fe807</td>\n      <td>dance|indie|rock</td>\n      <td>guitarist|keyboardist|songwriter|front of hous...</td>\n      <td>CO</td>\n      <td>22.0</td>\n    </tr>\n    <tr>\n      <th>1</th>\n      <td>445b91ac-da18-4b37-80f7-c174d82cf5af</td>\n      <td>pop|r&amp;b/soul|acoustic</td>\n      <td>singer|songwriter|actor</td>\n      <td>US</td>\n      <td>22.0</td>\n    </tr>\n    <tr>\n      <th>2</th>\n      <td>f155555d-48c2-4fba-bb26-d5566747e2a8</td>\n      <td>opera|flamenco|bollywood</td>\n      <td>singer|music lover</td>\n      <td>IN</td>\n      <td>19.0</td>\n    </tr>\n    <tr>\n      <th>3</th>\n      <td>d47d2173-0fb6-41e3-9f13-c34b5c4ccc03</td>\n      <td>hip hop|punk|hardcore</td>\n      <td>drummer|composer</td>\n      <td>US</td>\n      <td>34.0</td>\n    </tr>\n    <tr>\n      <th>4</th>\n      <td>cbeccf90-fdb9-47fa-be3c-af6854b329f6</td>\n      <td>pop</td>\n      <td>producer|music lover|songwriter|composer|pianist</td>\n      <td>FR</td>\n      <td>45.0</td>\n    </tr>\n  </tbody>\n</table>\n</div>"
     },
     "execution_count": 5,
     "metadata": {},
     "output_type": "execute_result"
    }
   ],
   "source": [
    "user_df.head(5)"
   ],
   "metadata": {
    "collapsed": false,
    "ExecuteTime": {
     "end_time": "2023-12-03T04:55:45.697886Z",
     "start_time": "2023-12-03T04:55:45.660707700Z"
    }
   }
  },
  {
   "cell_type": "code",
   "execution_count": 6,
   "outputs": [
    {
     "data": {
      "text/plain": "                                USER_ID    GENRES  \\\n0  4a023c6e-6ade-4b3b-854a-85a8cc9fe807     dance   \n1  4a023c6e-6ade-4b3b-854a-85a8cc9fe807     indie   \n2  4a023c6e-6ade-4b3b-854a-85a8cc9fe807      rock   \n3  445b91ac-da18-4b37-80f7-c174d82cf5af       pop   \n4  445b91ac-da18-4b37-80f7-c174d82cf5af  r&b/soul   \n\n                                         INSTRUMENTS COUNTRY   AGE  \n0  guitarist|keyboardist|songwriter|front of hous...      CO  22.0  \n1  guitarist|keyboardist|songwriter|front of hous...      CO  22.0  \n2  guitarist|keyboardist|songwriter|front of hous...      CO  22.0  \n3                            singer|songwriter|actor      US  22.0  \n4                            singer|songwriter|actor      US  22.0  ",
      "text/html": "<div>\n<style scoped>\n    .dataframe tbody tr th:only-of-type {\n        vertical-align: middle;\n    }\n\n    .dataframe tbody tr th {\n        vertical-align: top;\n    }\n\n    .dataframe thead th {\n        text-align: right;\n    }\n</style>\n<table border=\"1\" class=\"dataframe\">\n  <thead>\n    <tr style=\"text-align: right;\">\n      <th></th>\n      <th>USER_ID</th>\n      <th>GENRES</th>\n      <th>INSTRUMENTS</th>\n      <th>COUNTRY</th>\n      <th>AGE</th>\n    </tr>\n  </thead>\n  <tbody>\n    <tr>\n      <th>0</th>\n      <td>4a023c6e-6ade-4b3b-854a-85a8cc9fe807</td>\n      <td>dance</td>\n      <td>guitarist|keyboardist|songwriter|front of hous...</td>\n      <td>CO</td>\n      <td>22.0</td>\n    </tr>\n    <tr>\n      <th>1</th>\n      <td>4a023c6e-6ade-4b3b-854a-85a8cc9fe807</td>\n      <td>indie</td>\n      <td>guitarist|keyboardist|songwriter|front of hous...</td>\n      <td>CO</td>\n      <td>22.0</td>\n    </tr>\n    <tr>\n      <th>2</th>\n      <td>4a023c6e-6ade-4b3b-854a-85a8cc9fe807</td>\n      <td>rock</td>\n      <td>guitarist|keyboardist|songwriter|front of hous...</td>\n      <td>CO</td>\n      <td>22.0</td>\n    </tr>\n    <tr>\n      <th>3</th>\n      <td>445b91ac-da18-4b37-80f7-c174d82cf5af</td>\n      <td>pop</td>\n      <td>singer|songwriter|actor</td>\n      <td>US</td>\n      <td>22.0</td>\n    </tr>\n    <tr>\n      <th>4</th>\n      <td>445b91ac-da18-4b37-80f7-c174d82cf5af</td>\n      <td>r&amp;b/soul</td>\n      <td>singer|songwriter|actor</td>\n      <td>US</td>\n      <td>22.0</td>\n    </tr>\n  </tbody>\n</table>\n</div>"
     },
     "execution_count": 6,
     "metadata": {},
     "output_type": "execute_result"
    }
   ],
   "source": [
    "user_df['GENRES'] = user_df['GENRES'].str.split('|')\n",
    "user_df = user_df.explode('GENRES')\n",
    "user_df = user_df.reset_index(drop=True)\n",
    "user_df.head(5)"
   ],
   "metadata": {
    "collapsed": false,
    "ExecuteTime": {
     "end_time": "2023-12-03T04:55:50.883914600Z",
     "start_time": "2023-12-03T04:55:50.719356500Z"
    }
   }
  },
  {
   "cell_type": "code",
   "execution_count": 7,
   "outputs": [
    {
     "data": {
      "text/plain": "                                USER_ID GENRES              INSTRUMENTS  \\\n0  4a023c6e-6ade-4b3b-854a-85a8cc9fe807  dance                guitarist   \n1  4a023c6e-6ade-4b3b-854a-85a8cc9fe807  dance              keyboardist   \n2  4a023c6e-6ade-4b3b-854a-85a8cc9fe807  dance               songwriter   \n3  4a023c6e-6ade-4b3b-854a-85a8cc9fe807  dance  front of house engineer   \n4  4a023c6e-6ade-4b3b-854a-85a8cc9fe807  dance                 composer   \n\n  COUNTRY   AGE  \n0      CO  22.0  \n1      CO  22.0  \n2      CO  22.0  \n3      CO  22.0  \n4      CO  22.0  ",
      "text/html": "<div>\n<style scoped>\n    .dataframe tbody tr th:only-of-type {\n        vertical-align: middle;\n    }\n\n    .dataframe tbody tr th {\n        vertical-align: top;\n    }\n\n    .dataframe thead th {\n        text-align: right;\n    }\n</style>\n<table border=\"1\" class=\"dataframe\">\n  <thead>\n    <tr style=\"text-align: right;\">\n      <th></th>\n      <th>USER_ID</th>\n      <th>GENRES</th>\n      <th>INSTRUMENTS</th>\n      <th>COUNTRY</th>\n      <th>AGE</th>\n    </tr>\n  </thead>\n  <tbody>\n    <tr>\n      <th>0</th>\n      <td>4a023c6e-6ade-4b3b-854a-85a8cc9fe807</td>\n      <td>dance</td>\n      <td>guitarist</td>\n      <td>CO</td>\n      <td>22.0</td>\n    </tr>\n    <tr>\n      <th>1</th>\n      <td>4a023c6e-6ade-4b3b-854a-85a8cc9fe807</td>\n      <td>dance</td>\n      <td>keyboardist</td>\n      <td>CO</td>\n      <td>22.0</td>\n    </tr>\n    <tr>\n      <th>2</th>\n      <td>4a023c6e-6ade-4b3b-854a-85a8cc9fe807</td>\n      <td>dance</td>\n      <td>songwriter</td>\n      <td>CO</td>\n      <td>22.0</td>\n    </tr>\n    <tr>\n      <th>3</th>\n      <td>4a023c6e-6ade-4b3b-854a-85a8cc9fe807</td>\n      <td>dance</td>\n      <td>front of house engineer</td>\n      <td>CO</td>\n      <td>22.0</td>\n    </tr>\n    <tr>\n      <th>4</th>\n      <td>4a023c6e-6ade-4b3b-854a-85a8cc9fe807</td>\n      <td>dance</td>\n      <td>composer</td>\n      <td>CO</td>\n      <td>22.0</td>\n    </tr>\n  </tbody>\n</table>\n</div>"
     },
     "execution_count": 7,
     "metadata": {},
     "output_type": "execute_result"
    }
   ],
   "source": [
    "user_df['INSTRUMENTS'] = user_df['INSTRUMENTS'].str.split('|')\n",
    "user_df = user_df.explode('INSTRUMENTS')\n",
    "user_df = user_df.reset_index(drop=True)\n",
    "user_df.head(5)"
   ],
   "metadata": {
    "collapsed": false,
    "ExecuteTime": {
     "end_time": "2023-12-03T04:55:53.524993200Z",
     "start_time": "2023-12-03T04:55:53.157532300Z"
    }
   }
  },
  {
   "cell_type": "code",
   "execution_count": 8,
   "outputs": [
    {
     "data": {
      "text/plain": "GENRES\nrock               78500\npop                64071\nhip hop            59110\nr&b/soul           54291\nindie              47215\n                   ...  \nbig band               1\namericana music        1\nanyone                 1\ngoodvibes              1\nbaggy                  1\nName: count, Length: 2112, dtype: int64"
     },
     "execution_count": 8,
     "metadata": {},
     "output_type": "execute_result"
    }
   ],
   "source": [
    "user_df['GENRES'].value_counts()"
   ],
   "metadata": {
    "collapsed": false,
    "ExecuteTime": {
     "end_time": "2023-12-03T04:55:55.075100Z",
     "start_time": "2023-12-03T04:55:55.033547200Z"
    }
   }
  },
  {
   "cell_type": "code",
   "execution_count": 9,
   "outputs": [
    {
     "data": {
      "text/plain": "COUNTRY\nUS    224551\nGB     44392\nIN     40034\nES     35873\nBR     33861\n       ...  \nGF         3\nGG         3\nMQ         2\nMW         1\nCG         1\nName: count, Length: 155, dtype: int64"
     },
     "execution_count": 9,
     "metadata": {},
     "output_type": "execute_result"
    }
   ],
   "source": [
    "user_df['COUNTRY'].value_counts()"
   ],
   "metadata": {
    "collapsed": false,
    "ExecuteTime": {
     "end_time": "2023-12-03T04:55:59.205691300Z",
     "start_time": "2023-12-03T04:55:59.154922300Z"
    }
   }
  },
  {
   "cell_type": "code",
   "execution_count": 10,
   "outputs": [
    {
     "data": {
      "text/plain": "AGE\n23.0     40038\n22.0     39462\n24.0     38543\n21.0     37665\n20.0     37300\n         ...  \n77.0         8\n103.0        8\n94.0         6\n79.0         4\n101.0        4\nName: count, Length: 88, dtype: int64"
     },
     "execution_count": 10,
     "metadata": {},
     "output_type": "execute_result"
    }
   ],
   "source": [
    "user_df['AGE'].value_counts()"
   ],
   "metadata": {
    "collapsed": false,
    "ExecuteTime": {
     "end_time": "2023-12-03T04:56:03.302538Z",
     "start_time": "2023-12-03T04:56:03.286963200Z"
    }
   }
  },
  {
   "cell_type": "markdown",
   "source": [
    "# Items Dataset"
   ],
   "metadata": {
    "collapsed": false
   }
  },
  {
   "cell_type": "code",
   "execution_count": 11,
   "outputs": [
    {
     "data": {
      "text/plain": "   ITEM_ID                           GENRES                      GENRE_L2  \\\n0   156294    looking for a collab - rapper         hip hop|jazz|r&b/soul   \n1   156293                      new release  metal|trap|progressive metal   \n2   156292                 work in progress                     punk|rock   \n3   156291  looking for a collab - producer                       hip hop   \n4   156290      looking for a collab - band                     punk|rock   \n\n  GENRE_L3                         CONTENT_OWNER  CREATION_TIMESTAMP  \n0       US  3a831b66-6a8f-41aa-a2c5-38faf336b83a          1677133300  \n1       MX  fea5d30a-ebb9-4984-94e8-d5c087bcbcf5          1677125731  \n2       US  e935e4c7-d31a-4722-80dd-32a311b1bc28          1677119923  \n3       CA  baa435eb-39ac-461c-8fd7-493f6c5f938b          1677119627  \n4       US  e935e4c7-d31a-4722-80dd-32a311b1bc28          1677118758  ",
      "text/html": "<div>\n<style scoped>\n    .dataframe tbody tr th:only-of-type {\n        vertical-align: middle;\n    }\n\n    .dataframe tbody tr th {\n        vertical-align: top;\n    }\n\n    .dataframe thead th {\n        text-align: right;\n    }\n</style>\n<table border=\"1\" class=\"dataframe\">\n  <thead>\n    <tr style=\"text-align: right;\">\n      <th></th>\n      <th>ITEM_ID</th>\n      <th>GENRES</th>\n      <th>GENRE_L2</th>\n      <th>GENRE_L3</th>\n      <th>CONTENT_OWNER</th>\n      <th>CREATION_TIMESTAMP</th>\n    </tr>\n  </thead>\n  <tbody>\n    <tr>\n      <th>0</th>\n      <td>156294</td>\n      <td>looking for a collab - rapper</td>\n      <td>hip hop|jazz|r&amp;b/soul</td>\n      <td>US</td>\n      <td>3a831b66-6a8f-41aa-a2c5-38faf336b83a</td>\n      <td>1677133300</td>\n    </tr>\n    <tr>\n      <th>1</th>\n      <td>156293</td>\n      <td>new release</td>\n      <td>metal|trap|progressive metal</td>\n      <td>MX</td>\n      <td>fea5d30a-ebb9-4984-94e8-d5c087bcbcf5</td>\n      <td>1677125731</td>\n    </tr>\n    <tr>\n      <th>2</th>\n      <td>156292</td>\n      <td>work in progress</td>\n      <td>punk|rock</td>\n      <td>US</td>\n      <td>e935e4c7-d31a-4722-80dd-32a311b1bc28</td>\n      <td>1677119923</td>\n    </tr>\n    <tr>\n      <th>3</th>\n      <td>156291</td>\n      <td>looking for a collab - producer</td>\n      <td>hip hop</td>\n      <td>CA</td>\n      <td>baa435eb-39ac-461c-8fd7-493f6c5f938b</td>\n      <td>1677119627</td>\n    </tr>\n    <tr>\n      <th>4</th>\n      <td>156290</td>\n      <td>looking for a collab - band</td>\n      <td>punk|rock</td>\n      <td>US</td>\n      <td>e935e4c7-d31a-4722-80dd-32a311b1bc28</td>\n      <td>1677118758</td>\n    </tr>\n  </tbody>\n</table>\n</div>"
     },
     "execution_count": 11,
     "metadata": {},
     "output_type": "execute_result"
    }
   ],
   "source": [
    "item_df.head(5)"
   ],
   "metadata": {
    "collapsed": false,
    "ExecuteTime": {
     "end_time": "2023-12-03T04:56:10.492075600Z",
     "start_time": "2023-12-03T04:56:10.457944800Z"
    }
   }
  },
  {
   "cell_type": "code",
   "execution_count": 12,
   "outputs": [
    {
     "data": {
      "text/plain": "   ITEM_ID                         GENRES  GENRE_L2 GENRE_L3  \\\n0   156294  looking for a collab - rapper   hip hop       US   \n1   156294  looking for a collab - rapper      jazz       US   \n2   156294  looking for a collab - rapper  r&b/soul       US   \n3   156293                    new release     metal       MX   \n4   156293                    new release      trap       MX   \n\n                          CONTENT_OWNER  CREATION_TIMESTAMP  \n0  3a831b66-6a8f-41aa-a2c5-38faf336b83a          1677133300  \n1  3a831b66-6a8f-41aa-a2c5-38faf336b83a          1677133300  \n2  3a831b66-6a8f-41aa-a2c5-38faf336b83a          1677133300  \n3  fea5d30a-ebb9-4984-94e8-d5c087bcbcf5          1677125731  \n4  fea5d30a-ebb9-4984-94e8-d5c087bcbcf5          1677125731  ",
      "text/html": "<div>\n<style scoped>\n    .dataframe tbody tr th:only-of-type {\n        vertical-align: middle;\n    }\n\n    .dataframe tbody tr th {\n        vertical-align: top;\n    }\n\n    .dataframe thead th {\n        text-align: right;\n    }\n</style>\n<table border=\"1\" class=\"dataframe\">\n  <thead>\n    <tr style=\"text-align: right;\">\n      <th></th>\n      <th>ITEM_ID</th>\n      <th>GENRES</th>\n      <th>GENRE_L2</th>\n      <th>GENRE_L3</th>\n      <th>CONTENT_OWNER</th>\n      <th>CREATION_TIMESTAMP</th>\n    </tr>\n  </thead>\n  <tbody>\n    <tr>\n      <th>0</th>\n      <td>156294</td>\n      <td>looking for a collab - rapper</td>\n      <td>hip hop</td>\n      <td>US</td>\n      <td>3a831b66-6a8f-41aa-a2c5-38faf336b83a</td>\n      <td>1677133300</td>\n    </tr>\n    <tr>\n      <th>1</th>\n      <td>156294</td>\n      <td>looking for a collab - rapper</td>\n      <td>jazz</td>\n      <td>US</td>\n      <td>3a831b66-6a8f-41aa-a2c5-38faf336b83a</td>\n      <td>1677133300</td>\n    </tr>\n    <tr>\n      <th>2</th>\n      <td>156294</td>\n      <td>looking for a collab - rapper</td>\n      <td>r&amp;b/soul</td>\n      <td>US</td>\n      <td>3a831b66-6a8f-41aa-a2c5-38faf336b83a</td>\n      <td>1677133300</td>\n    </tr>\n    <tr>\n      <th>3</th>\n      <td>156293</td>\n      <td>new release</td>\n      <td>metal</td>\n      <td>MX</td>\n      <td>fea5d30a-ebb9-4984-94e8-d5c087bcbcf5</td>\n      <td>1677125731</td>\n    </tr>\n    <tr>\n      <th>4</th>\n      <td>156293</td>\n      <td>new release</td>\n      <td>trap</td>\n      <td>MX</td>\n      <td>fea5d30a-ebb9-4984-94e8-d5c087bcbcf5</td>\n      <td>1677125731</td>\n    </tr>\n  </tbody>\n</table>\n</div>"
     },
     "execution_count": 12,
     "metadata": {},
     "output_type": "execute_result"
    }
   ],
   "source": [
    "item_df['GENRE_L2'] = item_df['GENRE_L2'].str.split('|')\n",
    "item_df = item_df.explode('GENRE_L2')\n",
    "item_df = item_df.reset_index(drop=True)\n",
    "item_df.head(5)"
   ],
   "metadata": {
    "collapsed": false,
    "ExecuteTime": {
     "end_time": "2023-12-03T04:56:12.972512600Z",
     "start_time": "2023-12-03T04:56:12.930242100Z"
    }
   }
  },
  {
   "cell_type": "code",
   "execution_count": 13,
   "outputs": [
    {
     "data": {
      "text/plain": "GENRES\nwork in progress                                  6207\nnew release                                       5520\ncover                                             5314\nlooking for a collab - singer                     2093\nlooking for a collab - producer                   1354\n                                                  ... \nlooking for a collab - didgeridooist                 3\nlooking for a collab - woodwind player               3\nlooking for a collab - radio plugger                 3\nlooking for a collab - front of house engineer       3\nlooking for a collab - cellist                       1\nName: count, Length: 65, dtype: int64"
     },
     "execution_count": 13,
     "metadata": {},
     "output_type": "execute_result"
    }
   ],
   "source": [
    "item_df['GENRES'].value_counts()"
   ],
   "metadata": {
    "collapsed": false,
    "ExecuteTime": {
     "end_time": "2023-12-03T04:56:14.831788500Z",
     "start_time": "2023-12-03T04:56:14.810327900Z"
    }
   }
  },
  {
   "cell_type": "code",
   "execution_count": 14,
   "outputs": [
    {
     "data": {
      "text/plain": "GENRE_L2\nhip hop            3456\nr&b/soul           3274\npop                2995\nrock               2507\nindie              1829\n                   ... \nsymphonic metal       1\nafropunk              1\n#sertanejo            1\nmusical theatre       1\nsoulpop               1\nName: count, Length: 471, dtype: int64"
     },
     "execution_count": 14,
     "metadata": {},
     "output_type": "execute_result"
    }
   ],
   "source": [
    "item_df['GENRE_L2'].value_counts()"
   ],
   "metadata": {
    "collapsed": false,
    "ExecuteTime": {
     "end_time": "2023-12-03T04:56:17.931085800Z",
     "start_time": "2023-12-03T04:56:17.910759200Z"
    }
   }
  },
  {
   "cell_type": "code",
   "execution_count": 15,
   "outputs": [
    {
     "data": {
      "text/plain": "GENRE_L3\nUS    12297\nGB     1720\nCA     1278\nBR     1209\nIN     1178\n      ...  \nLT        2\nTH        1\nBJ        1\nAM        1\nSG        1\nName: count, Length: 92, dtype: int64"
     },
     "execution_count": 15,
     "metadata": {},
     "output_type": "execute_result"
    }
   ],
   "source": [
    "item_df['GENRE_L3'].value_counts()"
   ],
   "metadata": {
    "collapsed": false,
    "ExecuteTime": {
     "end_time": "2023-12-03T04:56:21.491361800Z",
     "start_time": "2023-12-03T04:56:21.458287200Z"
    }
   }
  },
  {
   "cell_type": "markdown",
   "source": [
    "# Interactions Dataset"
   ],
   "metadata": {
    "collapsed": false
   }
  },
  {
   "cell_type": "code",
   "execution_count": 16,
   "outputs": [
    {
     "data": {
      "text/plain": "   ITEM_ID                               USER_ID EVENT_TYPE   TIMESTAMP  \\\n0   123915  2757100c-83ce-48f2-9b8c-1e59af3be5c2      watch  1661249631   \n1   123945  11e6cf81-3b0b-4fab-bfc5-111b09542b9d      watch  1661256130   \n2   123943  41cb3305-dedb-4799-805f-8dc32a9ff26f      watch  1661260990   \n3   123945  2757100c-83ce-48f2-9b8c-1e59af3be5c2      watch  1661402799   \n4   126006  35ddd1d8-0478-4ee5-a506-d8fb873f3a69      watch  1661757374   \n\n   EVENT_VALUE  \n0            1  \n1            1  \n2            1  \n3            1  \n4            1  ",
      "text/html": "<div>\n<style scoped>\n    .dataframe tbody tr th:only-of-type {\n        vertical-align: middle;\n    }\n\n    .dataframe tbody tr th {\n        vertical-align: top;\n    }\n\n    .dataframe thead th {\n        text-align: right;\n    }\n</style>\n<table border=\"1\" class=\"dataframe\">\n  <thead>\n    <tr style=\"text-align: right;\">\n      <th></th>\n      <th>ITEM_ID</th>\n      <th>USER_ID</th>\n      <th>EVENT_TYPE</th>\n      <th>TIMESTAMP</th>\n      <th>EVENT_VALUE</th>\n    </tr>\n  </thead>\n  <tbody>\n    <tr>\n      <th>0</th>\n      <td>123915</td>\n      <td>2757100c-83ce-48f2-9b8c-1e59af3be5c2</td>\n      <td>watch</td>\n      <td>1661249631</td>\n      <td>1</td>\n    </tr>\n    <tr>\n      <th>1</th>\n      <td>123945</td>\n      <td>11e6cf81-3b0b-4fab-bfc5-111b09542b9d</td>\n      <td>watch</td>\n      <td>1661256130</td>\n      <td>1</td>\n    </tr>\n    <tr>\n      <th>2</th>\n      <td>123943</td>\n      <td>41cb3305-dedb-4799-805f-8dc32a9ff26f</td>\n      <td>watch</td>\n      <td>1661260990</td>\n      <td>1</td>\n    </tr>\n    <tr>\n      <th>3</th>\n      <td>123945</td>\n      <td>2757100c-83ce-48f2-9b8c-1e59af3be5c2</td>\n      <td>watch</td>\n      <td>1661402799</td>\n      <td>1</td>\n    </tr>\n    <tr>\n      <th>4</th>\n      <td>126006</td>\n      <td>35ddd1d8-0478-4ee5-a506-d8fb873f3a69</td>\n      <td>watch</td>\n      <td>1661757374</td>\n      <td>1</td>\n    </tr>\n  </tbody>\n</table>\n</div>"
     },
     "execution_count": 16,
     "metadata": {},
     "output_type": "execute_result"
    }
   ],
   "source": [
    "interaction_df.head(5)"
   ],
   "metadata": {
    "collapsed": false,
    "ExecuteTime": {
     "end_time": "2023-12-03T04:56:27.640898600Z",
     "start_time": "2023-12-03T04:56:27.601836100Z"
    }
   }
  },
  {
   "cell_type": "code",
   "execution_count": 17,
   "outputs": [
    {
     "data": {
      "text/plain": "EVENT_TYPE\nwatch    31767\nName: count, dtype: int64"
     },
     "execution_count": 17,
     "metadata": {},
     "output_type": "execute_result"
    }
   ],
   "source": [
    "interaction_df['EVENT_TYPE'].value_counts()"
   ],
   "metadata": {
    "collapsed": false,
    "ExecuteTime": {
     "end_time": "2023-12-03T04:56:29.758468700Z",
     "start_time": "2023-12-03T04:56:29.738618700Z"
    }
   }
  },
  {
   "cell_type": "code",
   "execution_count": 18,
   "outputs": [
    {
     "data": {
      "text/plain": "                                USER_ID  \\\n0  0008c7bb-3343-4e8a-8cd5-cb393f76ad05   \n1  0016922a-f72c-44d4-a404-936098d4f9e4   \n2  00362923-67b3-4791-8872-02436dd60141   \n3  006d8923-6937-4d52-8ec3-259f4ed5d6db   \n4  006fae4c-ccca-4963-bebe-342ab3114a03   \n5  007c33ad-6d9c-4e78-9446-96e32eeffd8f   \n6  00802b64-4a33-4c58-aa2a-43f7551c1888   \n7  008b4947-2573-458a-bf91-4529e4450e7b   \n8  00953402-a43c-4540-85d6-5282be5d7148   \n9  009781d8-95f4-4403-b004-b029d2da4425   \n\n                                            ITEM_ID  \\\n0                                  [139619, 139619]   \n1                                  [136478, 136478]   \n2                                  [138177, 138177]   \n3  [135568, 140783, 134964, 135568, 140783, 134964]   \n4                                  [138177, 138177]   \n5                                  [150273, 150273]   \n6                                  [153319, 153319]   \n7                  [140891, 146890, 140891, 146890]   \n8                                  [138177, 138177]   \n9                  [153160, 134764, 153160, 134764]   \n\n                                   EVENT_TYPE  \\\n0                              [watch, watch]   \n1                              [watch, watch]   \n2                              [watch, watch]   \n3  [watch, watch, watch, watch, watch, watch]   \n4                              [watch, watch]   \n5                              [watch, watch]   \n6                              [watch, watch]   \n7                [watch, watch, watch, watch]   \n8                              [watch, watch]   \n9                [watch, watch, watch, watch]   \n\n                                           TIMESTAMP         EVENT_VALUE  \n0                           [1674828741, 1674838741]              [1, 1]  \n1                           [1675344412, 1675354412]              [1, 1]  \n2                           [1673660701, 1673670701]              [1, 1]  \n3  [1668471946, 1668472140, 1668472188, 166848194...  [1, 1, 1, 1, 1, 1]  \n4                           [1667046455, 1667056455]              [1, 1]  \n5                           [1675906086, 1675916086]              [1, 1]  \n6                           [1675613416, 1675623416]              [1, 1]  \n7   [1673491694, 1673491868, 1673501694, 1673501868]        [1, 1, 1, 1]  \n8                           [1675094665, 1675104665]              [1, 1]  \n9   [1674004803, 1674171567, 1674014803, 1674181567]        [1, 1, 1, 1]  ",
      "text/html": "<div>\n<style scoped>\n    .dataframe tbody tr th:only-of-type {\n        vertical-align: middle;\n    }\n\n    .dataframe tbody tr th {\n        vertical-align: top;\n    }\n\n    .dataframe thead th {\n        text-align: right;\n    }\n</style>\n<table border=\"1\" class=\"dataframe\">\n  <thead>\n    <tr style=\"text-align: right;\">\n      <th></th>\n      <th>USER_ID</th>\n      <th>ITEM_ID</th>\n      <th>EVENT_TYPE</th>\n      <th>TIMESTAMP</th>\n      <th>EVENT_VALUE</th>\n    </tr>\n  </thead>\n  <tbody>\n    <tr>\n      <th>0</th>\n      <td>0008c7bb-3343-4e8a-8cd5-cb393f76ad05</td>\n      <td>[139619, 139619]</td>\n      <td>[watch, watch]</td>\n      <td>[1674828741, 1674838741]</td>\n      <td>[1, 1]</td>\n    </tr>\n    <tr>\n      <th>1</th>\n      <td>0016922a-f72c-44d4-a404-936098d4f9e4</td>\n      <td>[136478, 136478]</td>\n      <td>[watch, watch]</td>\n      <td>[1675344412, 1675354412]</td>\n      <td>[1, 1]</td>\n    </tr>\n    <tr>\n      <th>2</th>\n      <td>00362923-67b3-4791-8872-02436dd60141</td>\n      <td>[138177, 138177]</td>\n      <td>[watch, watch]</td>\n      <td>[1673660701, 1673670701]</td>\n      <td>[1, 1]</td>\n    </tr>\n    <tr>\n      <th>3</th>\n      <td>006d8923-6937-4d52-8ec3-259f4ed5d6db</td>\n      <td>[135568, 140783, 134964, 135568, 140783, 134964]</td>\n      <td>[watch, watch, watch, watch, watch, watch]</td>\n      <td>[1668471946, 1668472140, 1668472188, 166848194...</td>\n      <td>[1, 1, 1, 1, 1, 1]</td>\n    </tr>\n    <tr>\n      <th>4</th>\n      <td>006fae4c-ccca-4963-bebe-342ab3114a03</td>\n      <td>[138177, 138177]</td>\n      <td>[watch, watch]</td>\n      <td>[1667046455, 1667056455]</td>\n      <td>[1, 1]</td>\n    </tr>\n    <tr>\n      <th>5</th>\n      <td>007c33ad-6d9c-4e78-9446-96e32eeffd8f</td>\n      <td>[150273, 150273]</td>\n      <td>[watch, watch]</td>\n      <td>[1675906086, 1675916086]</td>\n      <td>[1, 1]</td>\n    </tr>\n    <tr>\n      <th>6</th>\n      <td>00802b64-4a33-4c58-aa2a-43f7551c1888</td>\n      <td>[153319, 153319]</td>\n      <td>[watch, watch]</td>\n      <td>[1675613416, 1675623416]</td>\n      <td>[1, 1]</td>\n    </tr>\n    <tr>\n      <th>7</th>\n      <td>008b4947-2573-458a-bf91-4529e4450e7b</td>\n      <td>[140891, 146890, 140891, 146890]</td>\n      <td>[watch, watch, watch, watch]</td>\n      <td>[1673491694, 1673491868, 1673501694, 1673501868]</td>\n      <td>[1, 1, 1, 1]</td>\n    </tr>\n    <tr>\n      <th>8</th>\n      <td>00953402-a43c-4540-85d6-5282be5d7148</td>\n      <td>[138177, 138177]</td>\n      <td>[watch, watch]</td>\n      <td>[1675094665, 1675104665]</td>\n      <td>[1, 1]</td>\n    </tr>\n    <tr>\n      <th>9</th>\n      <td>009781d8-95f4-4403-b004-b029d2da4425</td>\n      <td>[153160, 134764, 153160, 134764]</td>\n      <td>[watch, watch, watch, watch]</td>\n      <td>[1674004803, 1674171567, 1674014803, 1674181567]</td>\n      <td>[1, 1, 1, 1]</td>\n    </tr>\n  </tbody>\n</table>\n</div>"
     },
     "execution_count": 18,
     "metadata": {},
     "output_type": "execute_result"
    }
   ],
   "source": [
    "interaction_df.groupby('USER_ID', as_index=False).aggregate(lambda x: list(x)).head(10)"
   ],
   "metadata": {
    "collapsed": false,
    "ExecuteTime": {
     "end_time": "2023-12-03T04:56:33.404678100Z",
     "start_time": "2023-12-03T04:56:33.206500700Z"
    }
   }
  },
  {
   "cell_type": "markdown",
   "source": [
    "# Join Datasets"
   ],
   "metadata": {
    "collapsed": false
   }
  },
  {
   "cell_type": "code",
   "execution_count": 19,
   "outputs": [
    {
     "name": "stdout",
     "output_type": "stream",
     "text": [
      "755076\n"
     ]
    },
    {
     "data": {
      "text/plain": "                                USER_ID GENRES_USER  INSTRUMENTS COUNTRY  \\\n0  cbeccf90-fdb9-47fa-be3c-af6854b329f6         pop     producer      FR   \n1  cbeccf90-fdb9-47fa-be3c-af6854b329f6         pop     producer      FR   \n2  cbeccf90-fdb9-47fa-be3c-af6854b329f6         pop     producer      FR   \n3  cbeccf90-fdb9-47fa-be3c-af6854b329f6         pop     producer      FR   \n4  cbeccf90-fdb9-47fa-be3c-af6854b329f6         pop  music lover      FR   \n5  cbeccf90-fdb9-47fa-be3c-af6854b329f6         pop  music lover      FR   \n6  cbeccf90-fdb9-47fa-be3c-af6854b329f6         pop  music lover      FR   \n7  cbeccf90-fdb9-47fa-be3c-af6854b329f6         pop  music lover      FR   \n8  cbeccf90-fdb9-47fa-be3c-af6854b329f6         pop   songwriter      FR   \n9  cbeccf90-fdb9-47fa-be3c-af6854b329f6         pop   songwriter      FR   \n\n    AGE  ITEM_ID EVENT_TYPE   TIMESTAMP  EVENT_VALUE  \\\n0  45.0   148936      watch  1668937892            1   \n1  45.0   148936      watch  1668937892            1   \n2  45.0   148936      watch  1668947892            1   \n3  45.0   148936      watch  1668947892            1   \n4  45.0   148936      watch  1668937892            1   \n5  45.0   148936      watch  1668937892            1   \n6  45.0   148936      watch  1668947892            1   \n7  45.0   148936      watch  1668947892            1   \n8  45.0   148936      watch  1668937892            1   \n9  45.0   148936      watch  1668937892            1   \n\n                       GENRES_ITEM  GENRE_L2 GENRE_L3  \\\n0  looking for a collab - producer       pop       FR   \n1  looking for a collab - producer  acoustic       FR   \n2  looking for a collab - producer       pop       FR   \n3  looking for a collab - producer  acoustic       FR   \n4  looking for a collab - producer       pop       FR   \n5  looking for a collab - producer  acoustic       FR   \n6  looking for a collab - producer       pop       FR   \n7  looking for a collab - producer  acoustic       FR   \n8  looking for a collab - producer       pop       FR   \n9  looking for a collab - producer  acoustic       FR   \n\n                          CONTENT_OWNER  CREATION_TIMESTAMP  \n0  af08689f-f330-4566-b3bf-ea53016224fa          1668862984  \n1  af08689f-f330-4566-b3bf-ea53016224fa          1668862984  \n2  af08689f-f330-4566-b3bf-ea53016224fa          1668862984  \n3  af08689f-f330-4566-b3bf-ea53016224fa          1668862984  \n4  af08689f-f330-4566-b3bf-ea53016224fa          1668862984  \n5  af08689f-f330-4566-b3bf-ea53016224fa          1668862984  \n6  af08689f-f330-4566-b3bf-ea53016224fa          1668862984  \n7  af08689f-f330-4566-b3bf-ea53016224fa          1668862984  \n8  af08689f-f330-4566-b3bf-ea53016224fa          1668862984  \n9  af08689f-f330-4566-b3bf-ea53016224fa          1668862984  ",
      "text/html": "<div>\n<style scoped>\n    .dataframe tbody tr th:only-of-type {\n        vertical-align: middle;\n    }\n\n    .dataframe tbody tr th {\n        vertical-align: top;\n    }\n\n    .dataframe thead th {\n        text-align: right;\n    }\n</style>\n<table border=\"1\" class=\"dataframe\">\n  <thead>\n    <tr style=\"text-align: right;\">\n      <th></th>\n      <th>USER_ID</th>\n      <th>GENRES_USER</th>\n      <th>INSTRUMENTS</th>\n      <th>COUNTRY</th>\n      <th>AGE</th>\n      <th>ITEM_ID</th>\n      <th>EVENT_TYPE</th>\n      <th>TIMESTAMP</th>\n      <th>EVENT_VALUE</th>\n      <th>GENRES_ITEM</th>\n      <th>GENRE_L2</th>\n      <th>GENRE_L3</th>\n      <th>CONTENT_OWNER</th>\n      <th>CREATION_TIMESTAMP</th>\n    </tr>\n  </thead>\n  <tbody>\n    <tr>\n      <th>0</th>\n      <td>cbeccf90-fdb9-47fa-be3c-af6854b329f6</td>\n      <td>pop</td>\n      <td>producer</td>\n      <td>FR</td>\n      <td>45.0</td>\n      <td>148936</td>\n      <td>watch</td>\n      <td>1668937892</td>\n      <td>1</td>\n      <td>looking for a collab - producer</td>\n      <td>pop</td>\n      <td>FR</td>\n      <td>af08689f-f330-4566-b3bf-ea53016224fa</td>\n      <td>1668862984</td>\n    </tr>\n    <tr>\n      <th>1</th>\n      <td>cbeccf90-fdb9-47fa-be3c-af6854b329f6</td>\n      <td>pop</td>\n      <td>producer</td>\n      <td>FR</td>\n      <td>45.0</td>\n      <td>148936</td>\n      <td>watch</td>\n      <td>1668937892</td>\n      <td>1</td>\n      <td>looking for a collab - producer</td>\n      <td>acoustic</td>\n      <td>FR</td>\n      <td>af08689f-f330-4566-b3bf-ea53016224fa</td>\n      <td>1668862984</td>\n    </tr>\n    <tr>\n      <th>2</th>\n      <td>cbeccf90-fdb9-47fa-be3c-af6854b329f6</td>\n      <td>pop</td>\n      <td>producer</td>\n      <td>FR</td>\n      <td>45.0</td>\n      <td>148936</td>\n      <td>watch</td>\n      <td>1668947892</td>\n      <td>1</td>\n      <td>looking for a collab - producer</td>\n      <td>pop</td>\n      <td>FR</td>\n      <td>af08689f-f330-4566-b3bf-ea53016224fa</td>\n      <td>1668862984</td>\n    </tr>\n    <tr>\n      <th>3</th>\n      <td>cbeccf90-fdb9-47fa-be3c-af6854b329f6</td>\n      <td>pop</td>\n      <td>producer</td>\n      <td>FR</td>\n      <td>45.0</td>\n      <td>148936</td>\n      <td>watch</td>\n      <td>1668947892</td>\n      <td>1</td>\n      <td>looking for a collab - producer</td>\n      <td>acoustic</td>\n      <td>FR</td>\n      <td>af08689f-f330-4566-b3bf-ea53016224fa</td>\n      <td>1668862984</td>\n    </tr>\n    <tr>\n      <th>4</th>\n      <td>cbeccf90-fdb9-47fa-be3c-af6854b329f6</td>\n      <td>pop</td>\n      <td>music lover</td>\n      <td>FR</td>\n      <td>45.0</td>\n      <td>148936</td>\n      <td>watch</td>\n      <td>1668937892</td>\n      <td>1</td>\n      <td>looking for a collab - producer</td>\n      <td>pop</td>\n      <td>FR</td>\n      <td>af08689f-f330-4566-b3bf-ea53016224fa</td>\n      <td>1668862984</td>\n    </tr>\n    <tr>\n      <th>5</th>\n      <td>cbeccf90-fdb9-47fa-be3c-af6854b329f6</td>\n      <td>pop</td>\n      <td>music lover</td>\n      <td>FR</td>\n      <td>45.0</td>\n      <td>148936</td>\n      <td>watch</td>\n      <td>1668937892</td>\n      <td>1</td>\n      <td>looking for a collab - producer</td>\n      <td>acoustic</td>\n      <td>FR</td>\n      <td>af08689f-f330-4566-b3bf-ea53016224fa</td>\n      <td>1668862984</td>\n    </tr>\n    <tr>\n      <th>6</th>\n      <td>cbeccf90-fdb9-47fa-be3c-af6854b329f6</td>\n      <td>pop</td>\n      <td>music lover</td>\n      <td>FR</td>\n      <td>45.0</td>\n      <td>148936</td>\n      <td>watch</td>\n      <td>1668947892</td>\n      <td>1</td>\n      <td>looking for a collab - producer</td>\n      <td>pop</td>\n      <td>FR</td>\n      <td>af08689f-f330-4566-b3bf-ea53016224fa</td>\n      <td>1668862984</td>\n    </tr>\n    <tr>\n      <th>7</th>\n      <td>cbeccf90-fdb9-47fa-be3c-af6854b329f6</td>\n      <td>pop</td>\n      <td>music lover</td>\n      <td>FR</td>\n      <td>45.0</td>\n      <td>148936</td>\n      <td>watch</td>\n      <td>1668947892</td>\n      <td>1</td>\n      <td>looking for a collab - producer</td>\n      <td>acoustic</td>\n      <td>FR</td>\n      <td>af08689f-f330-4566-b3bf-ea53016224fa</td>\n      <td>1668862984</td>\n    </tr>\n    <tr>\n      <th>8</th>\n      <td>cbeccf90-fdb9-47fa-be3c-af6854b329f6</td>\n      <td>pop</td>\n      <td>songwriter</td>\n      <td>FR</td>\n      <td>45.0</td>\n      <td>148936</td>\n      <td>watch</td>\n      <td>1668937892</td>\n      <td>1</td>\n      <td>looking for a collab - producer</td>\n      <td>pop</td>\n      <td>FR</td>\n      <td>af08689f-f330-4566-b3bf-ea53016224fa</td>\n      <td>1668862984</td>\n    </tr>\n    <tr>\n      <th>9</th>\n      <td>cbeccf90-fdb9-47fa-be3c-af6854b329f6</td>\n      <td>pop</td>\n      <td>songwriter</td>\n      <td>FR</td>\n      <td>45.0</td>\n      <td>148936</td>\n      <td>watch</td>\n      <td>1668937892</td>\n      <td>1</td>\n      <td>looking for a collab - producer</td>\n      <td>acoustic</td>\n      <td>FR</td>\n      <td>af08689f-f330-4566-b3bf-ea53016224fa</td>\n      <td>1668862984</td>\n    </tr>\n  </tbody>\n</table>\n</div>"
     },
     "execution_count": 19,
     "metadata": {},
     "output_type": "execute_result"
    }
   ],
   "source": [
    "df = pd.merge(user_df, interaction_df, on='USER_ID')\n",
    "df = pd.merge(df, item_df, on='ITEM_ID', suffixes=('_USER', '_ITEM'))\n",
    "print(df.__len__())\n",
    "df.head(10)"
   ],
   "metadata": {
    "collapsed": false,
    "ExecuteTime": {
     "end_time": "2023-12-03T04:56:37.110727700Z",
     "start_time": "2023-12-03T04:56:36.892403300Z"
    }
   }
  },
  {
   "cell_type": "code",
   "execution_count": 20,
   "outputs": [
    {
     "data": {
      "text/plain": "                                USER_ID  ITEM_ID  \\\n0  0008c7bb-3343-4e8a-8cd5-cb393f76ad05   139619   \n1  0016922a-f72c-44d4-a404-936098d4f9e4   136478   \n2  00362923-67b3-4791-8872-02436dd60141   138177   \n3  007c33ad-6d9c-4e78-9446-96e32eeffd8f   150273   \n4  00802b64-4a33-4c58-aa2a-43f7551c1888   153319   \n5  008b4947-2573-458a-bf91-4529e4450e7b   140891   \n6  008b4947-2573-458a-bf91-4529e4450e7b   146890   \n7  00953402-a43c-4540-85d6-5282be5d7148   138177   \n8  009781d8-95f4-4403-b004-b029d2da4425   134764   \n9  009781d8-95f4-4403-b004-b029d2da4425   153160   \n\n                         GENRES_USER  \\\n0                           [gospel]   \n1                [indie, electronic]   \n2             [r&b/soul, trap, rock]   \n3          [r&b/soul, trap, hip hop]   \n4  [rock (alt.), psychedelic, indie]   \n5              [acoustic, rock, pop]   \n6              [acoustic, rock, pop]   \n7                     [hip hop, pop]   \n8            [rock, electronic, pop]   \n9            [rock, electronic, pop]   \n\n                                         INSTRUMENTS COUNTRY     AGE  \\\n0  [singer, keyboardist, music director, songwrit...    [NG]  [28.0]   \n1                     [songwriter, singer, producer]    [IT]  [28.0]   \n2                               [composer, producer]    [DO]  [28.0]   \n3  [mastering engineer, beatmaker, music lover, s...    [CA]  [27.0]   \n4                                 [drummer, bassist]    [BR]  [36.0]   \n5  [guitarist, singer, music lover, dancer, ukule...    [ES]  [34.0]   \n6  [guitarist, singer, music lover, dancer, ukule...    [ES]  [34.0]   \n7         [music lover, singer, producer, guitarist]    [US]  [53.0]   \n8  [producer, video director, guitarist, dj, comp...    [BR]  [22.0]   \n9  [producer, video director, guitarist, dj, comp...    [BR]  [22.0]   \n\n  EVENT_TYPE                 TIMESTAMP EVENT_VALUE  \\\n0    [watch]  [1674838741, 1674828741]         [1]   \n1    [watch]  [1675344412, 1675354412]         [1]   \n2    [watch]  [1673670701, 1673660701]         [1]   \n3    [watch]  [1675916086, 1675906086]         [1]   \n4    [watch]  [1675613416, 1675623416]         [1]   \n5    [watch]  [1673501694, 1673491694]         [1]   \n6    [watch]  [1673501868, 1673491868]         [1]   \n7    [watch]  [1675094665, 1675104665]         [1]   \n8    [watch]  [1674181567, 1674171567]         [1]   \n9    [watch]  [1674014803, 1674004803]         [1]   \n\n                            GENRES_ITEM  \\\n0         [looking for a collab - band]   \n1                         [new release]   \n2  [looking for a collab - music lover]   \n3                    [work in progress]   \n4                    [work in progress]   \n5                    [work in progress]   \n6                               [cover]   \n7  [looking for a collab - music lover]   \n8                    [work in progress]   \n9                         [new release]   \n\n                                 GENRE_L2 GENRE_L3  \\\n0                    [rock, indie, blues]     [JE]   \n1               [pop/rock, pop/punk, pop]     [ES]   \n2  [world music, electro-funk, avant-pop]     [US]   \n3                              [r&b/soul]     [CA]   \n4                 [r&b/soul, blues, rock]     [BR]   \n5                  [jazz, r&b/soul, funk]     [GB]   \n6                [r&b/soul, hip hop, pop]     [US]   \n7  [world music, electro-funk, avant-pop]     [US]   \n8  [world music, electro-funk, avant-pop]     [US]   \n9                 [rock, electronic, pop]     [BR]   \n\n                            CONTENT_OWNER CREATION_TIMESTAMP  \n0  [e4c45bd2-f2a4-4f9d-9f2d-64c6929e92d3]       [1664891757]  \n1  [33b93d5a-b791-4c23-b95f-7e76c2998f0e]       [1664105301]  \n2  [a2fae4c9-cfe7-4aa8-ac31-66b619c4e27f]       [1664542231]  \n3  [65254845-da32-4a6d-ba9e-086e23754ef3]       [1670820076]  \n4  [91c5a449-602f-4e6e-8957-4c902a7736bd]       [1674179763]  \n5  [d16f32cf-835d-49c0-9f4c-8079a14c0b51]       [1665161387]  \n6  [1b90053e-d19a-4333-b500-85463e2d9e91]       [1666587428]  \n7  [a2fae4c9-cfe7-4aa8-ac31-66b619c4e27f]       [1664542231]  \n8  [a2fae4c9-cfe7-4aa8-ac31-66b619c4e27f]       [1663688008]  \n9  [009781d8-95f4-4403-b004-b029d2da4425]       [1674003854]  ",
      "text/html": "<div>\n<style scoped>\n    .dataframe tbody tr th:only-of-type {\n        vertical-align: middle;\n    }\n\n    .dataframe tbody tr th {\n        vertical-align: top;\n    }\n\n    .dataframe thead th {\n        text-align: right;\n    }\n</style>\n<table border=\"1\" class=\"dataframe\">\n  <thead>\n    <tr style=\"text-align: right;\">\n      <th></th>\n      <th>USER_ID</th>\n      <th>ITEM_ID</th>\n      <th>GENRES_USER</th>\n      <th>INSTRUMENTS</th>\n      <th>COUNTRY</th>\n      <th>AGE</th>\n      <th>EVENT_TYPE</th>\n      <th>TIMESTAMP</th>\n      <th>EVENT_VALUE</th>\n      <th>GENRES_ITEM</th>\n      <th>GENRE_L2</th>\n      <th>GENRE_L3</th>\n      <th>CONTENT_OWNER</th>\n      <th>CREATION_TIMESTAMP</th>\n    </tr>\n  </thead>\n  <tbody>\n    <tr>\n      <th>0</th>\n      <td>0008c7bb-3343-4e8a-8cd5-cb393f76ad05</td>\n      <td>139619</td>\n      <td>[gospel]</td>\n      <td>[singer, keyboardist, music director, songwrit...</td>\n      <td>[NG]</td>\n      <td>[28.0]</td>\n      <td>[watch]</td>\n      <td>[1674838741, 1674828741]</td>\n      <td>[1]</td>\n      <td>[looking for a collab - band]</td>\n      <td>[rock, indie, blues]</td>\n      <td>[JE]</td>\n      <td>[e4c45bd2-f2a4-4f9d-9f2d-64c6929e92d3]</td>\n      <td>[1664891757]</td>\n    </tr>\n    <tr>\n      <th>1</th>\n      <td>0016922a-f72c-44d4-a404-936098d4f9e4</td>\n      <td>136478</td>\n      <td>[indie, electronic]</td>\n      <td>[songwriter, singer, producer]</td>\n      <td>[IT]</td>\n      <td>[28.0]</td>\n      <td>[watch]</td>\n      <td>[1675344412, 1675354412]</td>\n      <td>[1]</td>\n      <td>[new release]</td>\n      <td>[pop/rock, pop/punk, pop]</td>\n      <td>[ES]</td>\n      <td>[33b93d5a-b791-4c23-b95f-7e76c2998f0e]</td>\n      <td>[1664105301]</td>\n    </tr>\n    <tr>\n      <th>2</th>\n      <td>00362923-67b3-4791-8872-02436dd60141</td>\n      <td>138177</td>\n      <td>[r&amp;b/soul, trap, rock]</td>\n      <td>[composer, producer]</td>\n      <td>[DO]</td>\n      <td>[28.0]</td>\n      <td>[watch]</td>\n      <td>[1673670701, 1673660701]</td>\n      <td>[1]</td>\n      <td>[looking for a collab - music lover]</td>\n      <td>[world music, electro-funk, avant-pop]</td>\n      <td>[US]</td>\n      <td>[a2fae4c9-cfe7-4aa8-ac31-66b619c4e27f]</td>\n      <td>[1664542231]</td>\n    </tr>\n    <tr>\n      <th>3</th>\n      <td>007c33ad-6d9c-4e78-9446-96e32eeffd8f</td>\n      <td>150273</td>\n      <td>[r&amp;b/soul, trap, hip hop]</td>\n      <td>[mastering engineer, beatmaker, music lover, s...</td>\n      <td>[CA]</td>\n      <td>[27.0]</td>\n      <td>[watch]</td>\n      <td>[1675916086, 1675906086]</td>\n      <td>[1]</td>\n      <td>[work in progress]</td>\n      <td>[r&amp;b/soul]</td>\n      <td>[CA]</td>\n      <td>[65254845-da32-4a6d-ba9e-086e23754ef3]</td>\n      <td>[1670820076]</td>\n    </tr>\n    <tr>\n      <th>4</th>\n      <td>00802b64-4a33-4c58-aa2a-43f7551c1888</td>\n      <td>153319</td>\n      <td>[rock (alt.), psychedelic, indie]</td>\n      <td>[drummer, bassist]</td>\n      <td>[BR]</td>\n      <td>[36.0]</td>\n      <td>[watch]</td>\n      <td>[1675613416, 1675623416]</td>\n      <td>[1]</td>\n      <td>[work in progress]</td>\n      <td>[r&amp;b/soul, blues, rock]</td>\n      <td>[BR]</td>\n      <td>[91c5a449-602f-4e6e-8957-4c902a7736bd]</td>\n      <td>[1674179763]</td>\n    </tr>\n    <tr>\n      <th>5</th>\n      <td>008b4947-2573-458a-bf91-4529e4450e7b</td>\n      <td>140891</td>\n      <td>[acoustic, rock, pop]</td>\n      <td>[guitarist, singer, music lover, dancer, ukule...</td>\n      <td>[ES]</td>\n      <td>[34.0]</td>\n      <td>[watch]</td>\n      <td>[1673501694, 1673491694]</td>\n      <td>[1]</td>\n      <td>[work in progress]</td>\n      <td>[jazz, r&amp;b/soul, funk]</td>\n      <td>[GB]</td>\n      <td>[d16f32cf-835d-49c0-9f4c-8079a14c0b51]</td>\n      <td>[1665161387]</td>\n    </tr>\n    <tr>\n      <th>6</th>\n      <td>008b4947-2573-458a-bf91-4529e4450e7b</td>\n      <td>146890</td>\n      <td>[acoustic, rock, pop]</td>\n      <td>[guitarist, singer, music lover, dancer, ukule...</td>\n      <td>[ES]</td>\n      <td>[34.0]</td>\n      <td>[watch]</td>\n      <td>[1673501868, 1673491868]</td>\n      <td>[1]</td>\n      <td>[cover]</td>\n      <td>[r&amp;b/soul, hip hop, pop]</td>\n      <td>[US]</td>\n      <td>[1b90053e-d19a-4333-b500-85463e2d9e91]</td>\n      <td>[1666587428]</td>\n    </tr>\n    <tr>\n      <th>7</th>\n      <td>00953402-a43c-4540-85d6-5282be5d7148</td>\n      <td>138177</td>\n      <td>[hip hop, pop]</td>\n      <td>[music lover, singer, producer, guitarist]</td>\n      <td>[US]</td>\n      <td>[53.0]</td>\n      <td>[watch]</td>\n      <td>[1675094665, 1675104665]</td>\n      <td>[1]</td>\n      <td>[looking for a collab - music lover]</td>\n      <td>[world music, electro-funk, avant-pop]</td>\n      <td>[US]</td>\n      <td>[a2fae4c9-cfe7-4aa8-ac31-66b619c4e27f]</td>\n      <td>[1664542231]</td>\n    </tr>\n    <tr>\n      <th>8</th>\n      <td>009781d8-95f4-4403-b004-b029d2da4425</td>\n      <td>134764</td>\n      <td>[rock, electronic, pop]</td>\n      <td>[producer, video director, guitarist, dj, comp...</td>\n      <td>[BR]</td>\n      <td>[22.0]</td>\n      <td>[watch]</td>\n      <td>[1674181567, 1674171567]</td>\n      <td>[1]</td>\n      <td>[work in progress]</td>\n      <td>[world music, electro-funk, avant-pop]</td>\n      <td>[US]</td>\n      <td>[a2fae4c9-cfe7-4aa8-ac31-66b619c4e27f]</td>\n      <td>[1663688008]</td>\n    </tr>\n    <tr>\n      <th>9</th>\n      <td>009781d8-95f4-4403-b004-b029d2da4425</td>\n      <td>153160</td>\n      <td>[rock, electronic, pop]</td>\n      <td>[producer, video director, guitarist, dj, comp...</td>\n      <td>[BR]</td>\n      <td>[22.0]</td>\n      <td>[watch]</td>\n      <td>[1674014803, 1674004803]</td>\n      <td>[1]</td>\n      <td>[new release]</td>\n      <td>[rock, electronic, pop]</td>\n      <td>[BR]</td>\n      <td>[009781d8-95f4-4403-b004-b029d2da4425]</td>\n      <td>[1674003854]</td>\n    </tr>\n  </tbody>\n</table>\n</div>"
     },
     "execution_count": 20,
     "metadata": {},
     "output_type": "execute_result"
    }
   ],
   "source": [
    "df.groupby(['USER_ID', 'ITEM_ID'], as_index=False).aggregate(lambda x: list(set(x))).head(10)"
   ],
   "metadata": {
    "collapsed": false,
    "ExecuteTime": {
     "end_time": "2023-12-03T04:56:42.191896100Z",
     "start_time": "2023-12-03T04:56:40.772507800Z"
    }
   }
  },
  {
   "cell_type": "code",
   "execution_count": null,
   "outputs": [],
   "source": [],
   "metadata": {
    "collapsed": false
   }
  }
 ],
 "metadata": {
  "kernelspec": {
   "display_name": ".venv",
   "language": "python",
   "name": "python3"
  },
  "language_info": {
   "name": "python",
   "version": "3.10.7"
  },
  "orig_nbformat": 4,
  "vscode": {
   "interpreter": {
    "hash": "9bb157f904aec49cddabb4bade22437519827c00fa777958de02e31c94158d1f"
   }
  }
 },
 "nbformat": 4,
 "nbformat_minor": 2
}
